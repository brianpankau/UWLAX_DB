{
 "cells": [
  {
   "cell_type": "markdown",
   "metadata": {},
   "source": [
    "Welcome to the Jupyter notebook!\n",
    "\n",
    "This cell is a markdown cell, which means it contains text."
   ]
  },
  {
   "cell_type": "code",
   "execution_count": 1,
   "metadata": {},
   "outputs": [
    {
     "name": "stdout",
     "output_type": "stream",
     "text": [
      "hello world\n"
     ]
    }
   ],
   "source": [
    "#This cell is a code cell.  Pressing shift-enter or using the \"Run Cell\" button will evaluate the code in this cell.\n",
    "#The \"Run Cell\" button looks like a little black triangle.\n",
    "#Run the code in this cell.\n",
    "\n",
    "print(\"hello world\")"
   ]
  },
  {
   "cell_type": "code",
   "execution_count": 2,
   "metadata": {},
   "outputs": [
    {
     "name": "stdout",
     "output_type": "stream",
     "text": [
      "4\n"
     ]
    }
   ],
   "source": [
    "#create a variable named a, and store the value 3+1 in it\n",
    "a = 3+1\n",
    "\n",
    "#display a\n",
    "print(a)"
   ]
  },
  {
   "cell_type": "code",
   "execution_count": 3,
   "metadata": {},
   "outputs": [
    {
     "name": "stdout",
     "output_type": "stream",
     "text": [
      "three plus one is 4\n"
     ]
    }
   ],
   "source": [
    "#you can combine multiple objects in the same print statement\n",
    "\n",
    "print(\"three plus one is\", a)"
   ]
  },
  {
   "cell_type": "markdown",
   "metadata": {},
   "source": [
    "Change the cell below to output your first and last names."
   ]
  },
  {
   "cell_type": "code",
   "execution_count": 6,
   "metadata": {},
   "outputs": [
    {
     "name": "stdout",
     "output_type": "stream",
     "text": [
      "Brian Pankau\n"
     ]
    }
   ],
   "source": [
    "#Note that the usual Python convention is to separate words in variable names using underscores\n",
    "#Change the code below to store *your* first and last name.\n",
    "\n",
    "my_first_name = \"Brian\"\n",
    "my_last_name = \"Pankau\"\n",
    "print(my_first_name,my_last_name)"
   ]
  },
  {
   "cell_type": "code",
   "execution_count": 10,
   "metadata": {},
   "outputs": [
    {
     "name": "stdout",
     "output_type": "stream",
     "text": [
      "Given Name \t Surname \n",
      " Brian \t\t Pankau\n"
     ]
    }
   ],
   "source": [
    "#We can use the tab or \"\\t\" and newline or \"\\n\" characters to format our output.\n",
    "#Adjust the output below to format the text so that your first and last name appear in the appropriate column.\n",
    "\n",
    "print(\"Given Name\",\"\\t\",\"Surname\",\"\\n\",my_first_name, \"\\t\\t\", my_last_name)"
   ]
  },
  {
   "cell_type": "markdown",
   "metadata": {},
   "source": [
    "Insert a new cell below and change it to a markdown cell by using the dropdown menu at the top of the Jupyter notebook.\n",
    "\n",
    "In this markdown cell that you create, explain your process for modifiying the previous code cell above.\n",
    "\n",
    "In general, in your homework for this class, you may add mardown cells to explain or justify your programming choices."
   ]
  },
  {
   "cell_type": "markdown",
   "metadata": {},
   "source": [
    "# Added tab format string twice inbetween my_first_name variable and my_last_name variable."
   ]
  },
  {
   "cell_type": "code",
   "execution_count": 12,
   "metadata": {},
   "outputs": [
    {
     "name": "stdout",
     "output_type": "stream",
     "text": [
      "Brian Pankau\n"
     ]
    }
   ],
   "source": [
    "#We can also combine strings using the + operator.\n",
    "#Adjust the output below so that it includes a space between your first and last name.\n",
    "print(my_first_name + \" \" + my_last_name)"
   ]
  },
  {
   "cell_type": "markdown",
   "metadata": {},
   "source": [
    "You can see a list of all of the functions associated to an object by typing the object's name followed by a period, then hitting tab."
   ]
  },
  {
   "cell_type": "code",
   "execution_count": 15,
   "metadata": {},
   "outputs": [
    {
     "name": "stdout",
     "output_type": "stream",
     "text": [
      "My given name in upper case =  BRIAN\n"
     ]
    }
   ],
   "source": [
    "#Find a function that will convert your given name to uppercase.\n",
    "\n",
    "my_given_name = \"brian\"\n",
    "print(\"My given name in upper case = \", my_given_name.upper())"
   ]
  },
  {
   "cell_type": "markdown",
   "metadata": {},
   "source": [
    "Now that we have had a chance to try out a few Python commands, go ahead and create a markdown cell to answer the following questions.\n",
    "1. What is your name?\n",
    "2. Why are you interested in Data Science?\n",
    "3. Tell us a little bit about your programming experience.  What programming courses have you taken?  Do you use programming on the job, and if so, how?\n",
    "4.  Tell us a little bit about your statistics experience.  What statistics courses have you taken?  Do you use statistics on the job, and if so, how?\n",
    "5.  Do you have other experience with R or Python?\n",
    "6.  What do you hope to learn in this class?\n",
    "7.  Is there anything else you would like to share with us?"
   ]
  },
  {
   "cell_type": "markdown",
   "metadata": {},
   "source": [
    "1.What is your name?\n",
    "    My name is Dr. Brian Pankau\n",
    "    \n",
    "2.Why are you interested in Data Science?\n",
    "    I am interested in Data Science because this discipline merging several skills and interests that I have developed during my career. Furthermore, I have recently joined Harris Corporation as a Systems Engineer in which I am working in a Data Science role. I view the knowledge that I gain in this Master's program as content and skills that will help improve my performance at work.\n",
    "\n",
    "3.Tell us a little bit about your programming experience. What programming courses have you taken? Do you use programming on the job, and if so, how?\n",
    "    I have a B.S, M.S., and D.CS in Computer Science, and for most of my career during the last 32 years I have worked as a Software Engineer in the Defense and Telecommunication domains. For the last 5 years in my career, I have worked in the role as a Software Sytems Engineer, but I have in the past also worked in the roles as a Software Architect, and as a Software Test. I have taken (and taught as an adjunct university professor) courses in C, C++, Java, UML OA/OD, Software Testing. I am currently using Python an R at work for data wrangling and data analysis.\n",
    "\n",
    "4.Tell us a little bit about your statistics experience. What statistics courses have you taken? Do you use statistics on the job, and if so, how?\n",
    "    I have had several statistic courses at both the undergraduate and graduate levels. My dissertation used non-parametric statistics to compare the categorization performance of KNN & NB classifier algorithms in classifying textual documents using word frequency. I use parametric statistics at work to evaluate the robustness of my research and findings as I perform predictive analytics for my Air Force customer.\n",
    "\n",
    "5.Do you have other experience with R or Python?\n",
    "    My training in R & Python is self-taught and has been rather haphazard. I am using this course and supplemental reources to develop a keen understanding of the languages.\n",
    "\n",
    "6.What do you hope to learn in this class?\n",
    "    I hope to learn in this class how best to apply each language for the domain that the language is best suitable for.\n",
    "\n",
    "7.Is there anything else you would like to share with us?\n",
    "    I also have interestes in AI and neural networks.\n"
   ]
  }
 ],
 "metadata": {
  "anaconda-cloud": {},
  "kernelspec": {
   "display_name": "Python 3",
   "language": "python",
   "name": "python3"
  },
  "language_info": {
   "codemirror_mode": {
    "name": "ipython",
    "version": 3
   },
   "file_extension": ".py",
   "mimetype": "text/x-python",
   "name": "python",
   "nbconvert_exporter": "python",
   "pygments_lexer": "ipython3",
   "version": "3.6.1"
  }
 },
 "nbformat": 4,
 "nbformat_minor": 1
}
