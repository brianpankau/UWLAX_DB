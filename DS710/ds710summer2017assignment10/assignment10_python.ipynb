{
 "cells": [
  {
   "cell_type": "markdown",
   "metadata": {},
   "source": [
    "#Problem 1(a).  Unionized workers.\n",
    "\n",
    "These problems use the 1985 Current Population Survey data, ```cps.csv```, from last week.\n",
    "\n",
    "Create a pandas data frame to hold the CPS data.  Write a function that computes the average hourly wage of a unionized worker by using control flow to iterate through each row of the data frame."
   ]
  },
  {
   "cell_type": "code",
   "execution_count": 19,
   "metadata": {},
   "outputs": [
    {
     "name": "stdout",
     "output_type": "stream",
     "text": [
      "Mean wage for union workers using control flow  = 12.285\n"
     ]
    }
   ],
   "source": [
    "# Author: Brian Pankau\n",
    "# Class: UWLAX DS 710\n",
    "# Assignment: 10 Python\n",
    "\n",
    "import pandas as pd\n",
    "import numpy as np\n",
    "from pandas import Series, DataFrame\n",
    "\n",
    "# Problem 1(a)). Unionized workers.\n",
    "# create a function to determine the wage of union workers using control flow\n",
    "# input:  a data frame of the cps.csv file\n",
    "# output: the mean wage for all union workers, zero if there are no union workers\n",
    "def mean_union_wage_control_flow(df):\n",
    "  union_wage_sum = 0\n",
    "  r = 0\n",
    "  w = 0\n",
    "  while (r < df.shape[0]):\n",
    "    if (df.loc[r, \"union\"] == \"Union\"):\n",
    "      union_wage_sum = union_wage_sum + df.loc[r, \"wage\"]\n",
    "      w = w + 1\n",
    "    r = r + 1\n",
    "\n",
    "  # return the mean wage of all union workers\n",
    "  if (w == 0):\n",
    "    return (0)\n",
    "  else:\n",
    "    return(union_wage_sum / w)\n",
    "\n",
    "#-----------------------------------------\n",
    "\n",
    "# read the file into memory and store the contents as a frame\n",
    "cps_df = pd.read_csv(\"C:/Temp10/cps10.csv\")\n",
    "\n",
    "# output mean wage for union workers\n",
    "print(\"Mean wage for union workers using control flow  = %3.3f\" % (mean_union_wage_control_flow(cps_df)))\n"
   ]
  },
  {
   "cell_type": "markdown",
   "metadata": {},
   "source": [
    "#Problem 1(b).  More unionized workers.\n",
    "\n",
    "Write a function that takes a row of a data frame as input.  Your function should return 0 if a worker is not unionized, and the worker's hourly wage if the worker is unionized.  Apply this function to your data frame, then use the resulting series to compute the average hourly wage of a unionized worker."
   ]
  },
  {
   "cell_type": "code",
   "execution_count": 20,
   "metadata": {},
   "outputs": [
    {
     "name": "stdout",
     "output_type": "stream",
     "text": [
      "Mean wage for union workers using row selectio  = 12.285\n"
     ]
    }
   ],
   "source": [
    "# Author: Brian Pankau\n",
    "# Class: UWLAX DS 710\n",
    "# Assignment: 10 Python\n",
    "\n",
    "import pandas as pd\n",
    "import numpy as np\n",
    "from pandas import Series, DataFrame\n",
    "\n",
    "# Problem 1(b). More unionized workers.\n",
    "# input:  a row of a cps data frame\n",
    "# output: returns the worker's hourly wage if the worker is unionized, or returns 0 if a worker is not unionized\n",
    "def union_wage(a_df_row):\n",
    "  if (a_df_row.union == \"Union\"):\n",
    "    return a_df_row.wage\n",
    "  else:\n",
    "    return 0\n",
    "\n",
    "#-----------------------------------------\n",
    "\n",
    "# Problem 1(b). More unionized workers.\n",
    "# Write a function that takes a row of a data frame as input. \n",
    "# Your function should return 0 if a worker is not unionized, and the worker's hourly wage if the worker is unionized. \n",
    "# Apply this function to your data frame, then use the resulting series to compute the average hourly wage of a unionized worker.\n",
    "wage_list = []\n",
    "for n in range(0,cps_df.shape[0]):\n",
    "  wage_list.append(union_wage(cps_df.loc[n]))\n",
    "wage_list_series = Series(wage_list)\n",
    "\n",
    "# output mean wage for union workers\n",
    "print(\"Mean wage for union workers using row selectio  = %3.3f\" % (wage_list_series[wage_list_series > 0].mean()))\n"
   ]
  },
  {
   "cell_type": "markdown",
   "metadata": {},
   "source": [
    "# Problem 1(c).  Selecting and analyzing unionized workers.\n",
    "\n",
    "Write code that selects the unionized workers, then computes the average hourly wage of the resulting subset."
   ]
  },
  {
   "cell_type": "code",
   "execution_count": 21,
   "metadata": {},
   "outputs": [
    {
     "name": "stdout",
     "output_type": "stream",
     "text": [
      "Mean wage for union workers using selection     = 12.285\n"
     ]
    }
   ],
   "source": [
    "# Author: Brian Pankau\n",
    "# Class: UWLAX DS 710\n",
    "# Assignment: 10 Python\n",
    "\n",
    "import pandas as pd\n",
    "import numpy as np\n",
    "from pandas import Series, DataFrame\n",
    "\n",
    "# Problem 1(c). Selecting and analyzing unionized workers.\n",
    "# input:  a data frame of the cps.csv file\n",
    "# output: the mean wage for all union workers, zero if there are no union workers\n",
    "def mean_union_wage(df):\n",
    "  # find wages for all union workers and return the mean for the wages\n",
    "  union_wage_list = []\n",
    "  union_wage_list = df.loc[df.union == \"Union\", \"wage\"]\n",
    "  \n",
    "  # return the mean wage of all union workers\n",
    "  if (len(union_wage_list) == 0):\n",
    "    return(0)\n",
    "  else:\n",
    "    return(union_wage_list.mean())\n",
    "\n",
    "#-----------------------------------------\n",
    "\n",
    "# Problem 1(c). Selecting and analyzing unionized workers.\n",
    "# Write code that selects the unionized workers, then computes the average hourly wage of the resulting subset.\n",
    "\n",
    "# output mean wage for union workers\n",
    "print(\"Mean wage for union workers using selection     = %3.3f\" % (mean_union_wage(cps_df)))\n"
   ]
  },
  {
   "cell_type": "markdown",
   "metadata": {},
   "source": [
    "#Problem 1(d).  Timing.\n",
    "\n",
    "Use the ```%time``` or ```%timeit``` magic commands to compare your code from 1(a), 1(b), and 1(c).  Create a markdown cell which explains the results of your comparison, including which is fastest and which is slowest.  Can you explain what makes the fastest code fastest?"
   ]
  },
  {
   "cell_type": "code",
   "execution_count": 26,
   "metadata": {},
   "outputs": [
    {
     "name": "stdout",
     "output_type": "stream",
     "text": [
      "1a time: \n",
      "10000 loops, best of 3: 176 µs per loop\n",
      "1b time: \n",
      "1000 loops, best of 3: 589 µs per loop\n",
      "1c time: \n",
      "1000 loops, best of 3: 596 µs per loop\n"
     ]
    }
   ],
   "source": [
    "import time\n",
    "\n",
    "print(\"1a time: \")\n",
    "%timeit by_1_a = mean_union_wage_control_flow(cps_df)\n",
    "\n",
    "print(\"1b time: \")\n",
    "%timeit by_1_b = wage_list_series[wage_list_series > 0].mean()\n",
    "\n",
    "print(\"1c time: \")\n",
    "%timeit by_1_c = mean_union_wage(cps_df)\n"
   ]
  },
  {
   "cell_type": "markdown",
   "metadata": {},
   "source": [
    "# Results Explaination:\n",
    "The method used in problem 1a had the shortest time.\n",
    "The method used in problem 1b had the next shortest time.\n",
    "The method used in problem 1c had the longest time.\n",
    "\n",
    "In the method used in problem 1a, the fastest method, we are itterating through the data frame using a while loop \n",
    "in which each row is tested against the \"Union\" condition, upon true the row's wages are added to the total wage sum.\n",
    "\n",
    "In method 1b, we are generating a list of wages to average by appending the list, which is expensive in time.\n",
    "\n",
    "Likewise, in the method used in problem 1c, we are creating a subset of wages from the entire data frame by applying a \n",
    "filter against each row is also expensive in time.\n",
    "        "
   ]
  }
 ],
 "metadata": {
  "kernelspec": {
   "display_name": "Python 3",
   "language": "python",
   "name": "python3"
  },
  "language_info": {
   "codemirror_mode": {
    "name": "ipython",
    "version": 3
   },
   "file_extension": ".py",
   "mimetype": "text/x-python",
   "name": "python",
   "nbconvert_exporter": "python",
   "pygments_lexer": "ipython3",
   "version": "3.6.1"
  }
 },
 "nbformat": 4,
 "nbformat_minor": 1
}
