{
 "cells": [
  {
   "cell_type": "markdown",
   "metadata": {},
   "source": [
    "# Problem 1(a).  College data.\n",
    "\n",
    "The data set usnews.csv contains data from the 1995 US News and World Report on colleges and universities in the US.  \n",
    "\n",
    "(Dataset:  “US News College data,” submitted by Robin Lock, St. Lawrence University.   Dataset obtained from the Journal of Statistics Education (http://www.amstat.org/publications/jse). Accessed 23 June 2015. Used by permission of author.)\n",
    "\n",
    "Metadata:  http://www.amstat.org/publications/jse/datasets/usnews.txt\n",
    "\n",
    "\n",
    "The data set contains asterisks which indicate missing data.  Use pandas to create a data frame which replaces the asterisks by the ```NaN``` symbol. Also look out for extra spaces.  "
   ]
  },
  {
   "cell_type": "code",
   "execution_count": 23,
   "metadata": {},
   "outputs": [],
   "source": [
    "# Author: Brian Pankau\n",
    "# Class: DS710 Summer 2017\n",
    "# Assignment: Python 9\n",
    "\n",
    "# Problem 1(a)\n",
    "# import libraries\n",
    "import os\n",
    "import csv\n",
    "import numpy as np\n",
    "import pandas as pd\n",
    "from pandas import Series\n",
    "from pandas import DataFrame\n",
    "\n",
    "# set working directory\n",
    "os.chdir('c:/Temp9')\n",
    "\n",
    "# read csv file as a df\n",
    "df = pd.read_csv('usnews.csv')\n",
    "\n",
    "# replace all '*' with NaN\n",
    "for col in df.columns:\n",
    "  arr_uni = np.array(df[col], dtype=np.unicode_)\n",
    "  arr_uni[arr_uni == '*'] = 'NaN'\n",
    "  arr_obj = arr_uni.astype(object)\n",
    "  df[col] = arr_obj\n",
    "\n"
   ]
  },
  {
   "cell_type": "markdown",
   "metadata": {
    "collapsed": true
   },
   "source": [
    "#Problem 1(b).  Categorizing universities.\n",
    "\n",
    "Create a new column in your data frame which describes whether a university is public or private, using the words \"Public\" and \"Private\" instead of numbers.  (It may be helpful to consult the metadata file.)\n"
   ]
  },
  {
   "cell_type": "code",
   "execution_count": 24,
   "metadata": {
    "collapsed": true
   },
   "outputs": [],
   "source": [
    "# Problem 1(b)\n",
    "# generate a list of the column names\n",
    "col_list = list(df.columns)\n",
    "\n",
    "# remove the leading space on the column names\n",
    "col_new = []\n",
    "for i in col_list:\n",
    "  if i == \"ID Number\":\n",
    "    col_new.append(i)\n",
    "  else:\n",
    "    col_new.append(i[1:])\n",
    "\n",
    "# update the df column names\n",
    "df.columns = col_new\n",
    "\n",
    "# add a new column name to the column names\n",
    "col_new.append('Institution')\n",
    "\n",
    "# add a new column to the df\n",
    "df = DataFrame(df, columns=col_new)\n",
    "\n",
    "# update the 'Instution' column with strings based on values in 'Public/private' column\n",
    "pp = Series(df['Public/private'], dtype='int8')\n",
    "inst_list = []\n",
    "for q in pp:\n",
    "  if q == 1:\n",
    "    inst_list.append(\"Public\")\n",
    "  elif q == 2:\n",
    "    inst_list.append(\"Private\")\n",
    "  else:\n",
    "    inst_list.append(\"NaN\")\n",
    "df['Institution'] = inst_list\n",
    "\n"
   ]
  },
  {
   "cell_type": "markdown",
   "metadata": {},
   "source": [
    "#Problem 1(c).  \n",
    "\n",
    "The interquartile range is the 3rd quartile minus the 1st quartile.  Create columns recording the interquartile range for math and verbal SAT scores."
   ]
  },
  {
   "cell_type": "code",
   "execution_count": 25,
   "metadata": {
    "collapsed": true
   },
   "outputs": [],
   "source": [
    "# Problem 1(c)\n",
    "# Math SAT\n",
    "# convert third_math_sat string scores to interger, replace NaN with zeros\n",
    "third_math_sat_obj = df['Third quartile - Math SAT']\n",
    "third_math_sat_int_list = []\n",
    "for t in third_math_sat_obj:\n",
    "  if t == 'NaN':\n",
    "    third_math_sat_int_list.append(0)\n",
    "  else:\n",
    "    third_math_sat_int_list.append(int(t))\n",
    "arr3_math_sat = np.array(third_math_sat_int_list)\n",
    "\n",
    "# convert first_math_sat string scores to interger, replace NaN with zeros\n",
    "first_math_sat_obj = df['First quartile - Math SAT']\n",
    "first_math_sat_int_list = []\n",
    "for t in first_math_sat_obj:\n",
    "  if t == 'NaN':\n",
    "    first_math_sat_int_list.append(0)\n",
    "  else:\n",
    "    first_math_sat_int_list.append(int(t))\n",
    "arr1_math_sat = np.array(first_math_sat_int_list)\n",
    "\n",
    "# calculate interquartile (as integers)\n",
    "arri_math_sat = arr3_math_sat - arr1_math_sat\n",
    "\n",
    "# convert interquartile integer to string, replace zeros with NaN\n",
    "arri_math_sat_str = []\n",
    "for a in arri_math_sat:\n",
    "  if a == 0:\n",
    "    arri_math_sat_str.append('NaN')\n",
    "  else:\n",
    "    arri_math_sat_str.append(str(a))\n",
    "\n",
    "# assign interquartile string list to df\n",
    "# add new columns for Math SAT Interquartile range\n",
    "df['Interquartile  - Math SAT'] = arri_math_sat_str\n",
    "\n",
    "# Verbal SAT\n",
    "# convert third_verbal_sat string scores to interger, replace NaN with zeros\n",
    "third_verbal_sat_obj = df['Third quartile - Verbal SAT']\n",
    "third_verbal_sat_int_list = []\n",
    "for t in third_verbal_sat_obj:\n",
    "  if t == 'NaN':\n",
    "    third_verbal_sat_int_list.append(0)\n",
    "  else:\n",
    "    third_verbal_sat_int_list.append(int(t))\n",
    "arr3_verbal_sat = np.array(third_math_sat_int_list)\n",
    "\n",
    "# convert first_verbal_sat string scores to interger, replace NaN with zeros\n",
    "first_verbal_sat_obj = df['First quartile - Verbal SAT']\n",
    "first_verbal_sat_int_list = []\n",
    "for t in first_verbal_sat_obj:\n",
    "  if t == 'NaN':\n",
    "    first_verbal_sat_int_list.append(0)\n",
    "  else:\n",
    "    first_verbal_sat_int_list.append(int(t))\n",
    "arr1_verbal_sat = np.array(first_verbal_sat_int_list)\n",
    "\n",
    "# calculate verbal interquartile (as integers)\n",
    "arri_verbal_sat = arr3_verbal_sat - arr1_verbal_sat\n",
    "\n",
    "# convert verbal interquartile integer to string, replace zeros with NaN\n",
    "arri_verbal_sat_str = []\n",
    "for a in arri_verbal_sat:\n",
    "  if a == 0:\n",
    "    arri_verbal_sat_str.append('NaN')\n",
    "  else:\n",
    "    arri_verbal_sat_str.append(str(a))\n",
    "\n",
    "# assign interquartile string list to df\n",
    "# add new columns for Verbal SAT Interquartile range\n",
    "df['Interquartile  - Verbal SAT'] = arri_verbal_sat_str\n",
    "\n"
   ]
  },
  {
   "cell_type": "markdown",
   "metadata": {},
   "source": [
    "# Problem 1(d).  Saving for R.\n",
    "\n",
    "Save your data frame as a .csv file for further analysis in R.  You should replace the ```NaN``` symbol with an empty string before saving.  Your output should not include a column of row numbers."
   ]
  },
  {
   "cell_type": "code",
   "execution_count": 26,
   "metadata": {},
   "outputs": [],
   "source": [
    "# Problem 1(d)\n",
    "# save data to .csv w/o row numbers\n",
    "# create df for csv writing\n",
    "df_cvs = DataFrame(df, columns=df.columns[1:])\n",
    "\n",
    "# write to .csv file \n",
    "df.to_csv(\"c:/Temp9/Assignment_9.csv\", index=False, quoting=csv.QUOTE_NONNUMERIC)\n",
    "\n"
   ]
  }
 ],
 "metadata": {
  "kernelspec": {
   "display_name": "Python 3",
   "language": "python",
   "name": "python3"
  },
  "language_info": {
   "codemirror_mode": {
    "name": "ipython",
    "version": 3
   },
   "file_extension": ".py",
   "mimetype": "text/x-python",
   "name": "python",
   "nbconvert_exporter": "python",
   "pygments_lexer": "ipython3",
   "version": "3.6.1"
  }
 },
 "nbformat": 4,
 "nbformat_minor": 1
}
